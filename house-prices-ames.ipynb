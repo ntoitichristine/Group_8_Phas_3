{
 "cells": [
  {
   "cell_type": "markdown",
   "id": "a02f04e9-d251-4fc9-9e2f-8463856c19df",
   "metadata": {},
   "source": [
    "## House Prices - Advanced Regression Techniques\n",
    "### Predict sales prices and practice feature engineering, RFs, and gradient boosting\n",
    "\n",
    "Ask a home buyer to describe their dream house, and they probably won't begin with the height of the basement ceiling or the proximity to an east-west railroad. But this playground competition's dataset proves that much more influences price negotiations than the number of bedrooms or a white-picket fence.\r\n",
    "\r\n",
    "With 79 explanatory variables describing (almost) every aspect of residential homes in Ames, Iowa, this competition challenges you to predict the final price of each home. result equally.)"
   ]
  },
  {
   "cell_type": "markdown",
   "id": "57f9869c-67b0-4421-84c2-cd744c6a8274",
   "metadata": {},
   "source": [
    "## Practice Skills\n",
    "Creative feature engineering \n",
    "\n",
    "Advanced regression techniques like random forest and gradient boosting\n",
    "\n",
    "## Evaluation\n",
    "### Goal\n",
    "It is your job to predict the sales price for each house. For each Id in the test set, you must predict the value of the SalePrice variable. \n",
    "\n",
    "## Metric\n",
    "Submissions are evaluated on Root-Mean-Squared-Error (RMSE) between the logarithm of the predicted value and the logarithm of the observed sales price.aking logs means that errors in predicting expensive houses and cheap houses will affect the result equally.)"
   ]
  },
  {
   "cell_type": "markdown",
   "id": "03880380-bc9d-4405-a4bd-b645489aee63",
   "metadata": {},
   "source": [
    "### File descriptions\n",
    "\r",
    "1. \n",
    "train.cs--  the training set2. \r\n",
    "test.c - - the test se3. t\r\n",
    "data_description.txt - full description of each column, originally prepared by Dean De Cock but lightly edited to match the column names used he4. re\r\n",
    "sample_submission.csv - a benchmark submission from a linear regression on year and month of sale, lot square footage, and number of bedro\n",
    "predict."
   ]
  },
  {
   "cell_type": "markdown",
   "id": "f5cfca28-fd9f-4ec7-ac34-71d03c2059e4",
   "metadata": {},
   "source": [
    "### Data fields\n",
    "Here's a brief version of what you'll find in the data description file.\n",
    "\n",
    "SalePrice - the property's sale price in dollars. This is the target variable that you're trying to predict."
   ]
  },
  {
   "cell_type": "markdown",
   "id": "ab3202d5-3a92-4911-aa7d-d56a524e9a3c",
   "metadata": {},
   "source": [
    "### Group Objectives for the assignment\n",
    "1. How do we collaborate on Github? Create branches for each teammate and keep updating with EDA, and insights. Each member to create their own branch\n",
    "2. Explore the dataset by 5/12/24,\n",
    "3. perform EDA and prepare insights to share with the team \n",
    "4. How often should we meet? a). Every wednesday, and b). Saturday from 8.a.m to 12 a.m. "
   ]
  },
  {
   "cell_type": "markdown",
   "id": "7eab6b7a-bd38-4f99-ac7d-7c29af6f7898",
   "metadata": {},
   "source": [
    "# EDA"
   ]
  },
  {
   "cell_type": "code",
   "execution_count": 1,
   "id": "91fa501a-4c7d-4bd5-bc81-2adf7ddc7e21",
   "metadata": {},
   "outputs": [],
   "source": [
    "import pandas as pd\n",
    "import numpy as np\n",
    "import statsmodels.api as sm\n",
    "import math\n",
    "import matplotlib.pyplot as plt"
   ]
  },
  {
   "cell_type": "code",
   "execution_count": null,
   "id": "b32dbcd4-b20e-4802-a63c-143bcc8cc78c",
   "metadata": {},
   "outputs": [],
   "source": []
  }
 ],
 "metadata": {
  "kernelspec": {
   "display_name": "Python 3 (ipykernel)",
   "language": "python",
   "name": "python3"
  },
  "language_info": {
   "codemirror_mode": {
    "name": "ipython",
    "version": 3
   },
   "file_extension": ".py",
   "mimetype": "text/x-python",
   "name": "python",
   "nbconvert_exporter": "python",
   "pygments_lexer": "ipython3",
   "version": "3.12.4"
  }
 },
 "nbformat": 4,
 "nbformat_minor": 5
}
